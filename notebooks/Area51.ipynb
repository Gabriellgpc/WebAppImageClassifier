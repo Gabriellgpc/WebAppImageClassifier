{
 "cells": [
  {
   "cell_type": "code",
   "execution_count": 27,
   "id": "399882f7-2ad2-4d19-bf72-d3cf9f108f29",
   "metadata": {},
   "outputs": [],
   "source": [
    "import tensorflow as tf\n",
    "from tensorflow.keras.applications import EfficientNetB0\n",
    "from tensorflow.keras.applications.efficientnet import decode_predictions\n",
    "\n",
    "from IPython.display import display, Image"
   ]
  },
  {
   "cell_type": "code",
   "execution_count": 33,
   "id": "91869c66-2b9b-4416-9aef-fb73633b8c52",
   "metadata": {},
   "outputs": [],
   "source": [
    "def imread_tf(filename, target_shape=None):\n",
    "    content = tf.io.read_file(filename)\n",
    "    image = tf.image.decode_image(content)\n",
    "    image = tf.expand_dims(image, axis=0)\n",
    "    \n",
    "    if target_shape != None:\n",
    "        image = tf.image.resize(image, size=[target_shape, target_shape])\n",
    "    \n",
    "    return image"
   ]
  },
  {
   "cell_type": "code",
   "execution_count": 4,
   "id": "2a7840ea-b70c-45cc-97ef-892e056f52a3",
   "metadata": {},
   "outputs": [
    {
     "name": "stderr",
     "output_type": "stream",
     "text": [
      "2021-11-21 07:57:16.840687: I tensorflow/stream_executor/cuda/cuda_gpu_executor.cc:939] successful NUMA node read from SysFS had negative value (-1), but there must be at least one NUMA node, so returning NUMA node zero\n",
      "2021-11-21 07:57:16.841937: W tensorflow/stream_executor/platform/default/dso_loader.cc:64] Could not load dynamic library 'libcudart.so.11.0'; dlerror: libcudart.so.11.0: cannot open shared object file: No such file or directory\n",
      "2021-11-21 07:57:16.842127: W tensorflow/stream_executor/platform/default/dso_loader.cc:64] Could not load dynamic library 'libcublas.so.11'; dlerror: libcublas.so.11: cannot open shared object file: No such file or directory\n",
      "2021-11-21 07:57:16.861259: W tensorflow/stream_executor/platform/default/dso_loader.cc:64] Could not load dynamic library 'libcublasLt.so.11'; dlerror: libcublasLt.so.11: cannot open shared object file: No such file or directory\n",
      "2021-11-21 07:57:16.861605: W tensorflow/stream_executor/platform/default/dso_loader.cc:64] Could not load dynamic library 'libcufft.so.10'; dlerror: libcufft.so.10: cannot open shared object file: No such file or directory\n",
      "2021-11-21 07:57:16.861825: W tensorflow/stream_executor/platform/default/dso_loader.cc:64] Could not load dynamic library 'libcurand.so.10'; dlerror: libcurand.so.10: cannot open shared object file: No such file or directory\n",
      "2021-11-21 07:57:16.862560: W tensorflow/stream_executor/platform/default/dso_loader.cc:64] Could not load dynamic library 'libcusolver.so.11'; dlerror: libcusolver.so.11: cannot open shared object file: No such file or directory\n",
      "2021-11-21 07:57:16.862826: W tensorflow/stream_executor/platform/default/dso_loader.cc:64] Could not load dynamic library 'libcusparse.so.11'; dlerror: libcusparse.so.11: cannot open shared object file: No such file or directory\n",
      "2021-11-21 07:57:16.863040: W tensorflow/stream_executor/platform/default/dso_loader.cc:64] Could not load dynamic library 'libcudnn.so.8'; dlerror: libcudnn.so.8: cannot open shared object file: No such file or directory\n",
      "2021-11-21 07:57:16.863074: W tensorflow/core/common_runtime/gpu/gpu_device.cc:1850] Cannot dlopen some GPU libraries. Please make sure the missing libraries mentioned above are installed properly if you would like to use GPU. Follow the guide at https://www.tensorflow.org/install/gpu for how to download and setup the required libraries for your platform.\n",
      "Skipping registering GPU devices...\n",
      "2021-11-21 07:57:16.863919: I tensorflow/core/platform/cpu_feature_guard.cc:151] This TensorFlow binary is optimized with oneAPI Deep Neural Network Library (oneDNN) to use the following CPU instructions in performance-critical operations:  AVX2 FMA\n",
      "To enable them in other operations, rebuild TensorFlow with the appropriate compiler flags.\n"
     ]
    },
    {
     "name": "stdout",
     "output_type": "stream",
     "text": [
      "Downloading data from https://storage.googleapis.com/keras-applications/efficientnetb0.h5\n",
      "21839872/21834768 [==============================] - 3s 0us/step\n",
      "21848064/21834768 [==============================] - 3s 0us/step\n"
     ]
    }
   ],
   "source": [
    "model = EfficientNetB0()"
   ]
  },
  {
   "cell_type": "code",
   "execution_count": 23,
   "id": "f525b114-8496-47da-aad8-0aee1e1171ba",
   "metadata": {},
   "outputs": [
    {
     "data": {
      "image/jpeg": "[encoded data removed]",
      "text/plain": [
       "<IPython.core.display.Image object>"
      ]
     },
     "metadata": {},
     "output_type": "display_data"
    }
   ],
   "source": [
    "filename = '../images/dog.jpeg'\n",
    "image = imread_tf(filename)\n",
    "display( Image(filename) )"
   ]
  },
  {
   "cell_type": "code",
   "execution_count": 29,
   "id": "f14ae406-8266-4109-83ab-155f79969a87",
   "metadata": {},
   "outputs": [
    {
     "data": {
      "text/plain": [
       "(None, 224, 224, 3)"
      ]
     },
     "execution_count": 29,
     "metadata": {},
     "output_type": "execute_result"
    }
   ],
   "source": [
    "model.input_shape"
   ]
  },
  {
   "cell_type": "code",
   "execution_count": 40,
   "id": "e4e68868-d2e8-45f2-9322-1916e7576f13",
   "metadata": {},
   "outputs": [
    {
     "data": {
      "text/plain": [
       "[[('n02093428', 'American_Staffordshire_terrier', 0.27946708),\n",
       "  ('n02091032', 'Italian_greyhound', 0.24416196),\n",
       "  ('n02091134', 'whippet', 0.15109101),\n",
       "  ('n02093256', 'Staffordshire_bullterrier', 0.059272684),\n",
       "  ('n02089973', 'English_foxhound', 0.030041156)]]"
      ]
     },
     "metadata": {},
     "output_type": "display_data"
    }
   ],
   "source": [
    "image = imread_tf(filename, target_shape=224)\n",
    "y_pred = model.predict(image)\n",
    "decode_pred = decode_predictions(y_pred)\n",
    "\n",
    "display(decode_pred)"
   ]
  },
  {
   "cell_type": "code",
   "execution_count": 43,
   "id": "e7d5bbfb-4596-4eb1-a951-8fb0d2b8c66f",
   "metadata": {},
   "outputs": [
    {
     "name": "stdout",
     "output_type": "stream",
     "text": [
      "Class: American_Staffordshire_terrier | Confidence: 27%\n"
     ]
    }
   ],
   "source": [
    "pred_class = decode_pred[0][0][1]\n",
    "pred_conf  = decode_pred[0][0][2]\n",
    "\n",
    "print('Class: {} | Confidence: {}%'.format(pred_class, int(pred_conf*100)))"
   ]
  }
 ],
 "metadata": {
  "kernelspec": {
   "display_name": "Python 3",
   "language": "python",
   "name": "python3"
  },
  "language_info": {
   "codemirror_mode": {
    "name": "ipython",
    "version": 3
   },
   "file_extension": ".py",
   "mimetype": "text/x-python",
   "name": "python",
   "nbconvert_exporter": "python",
   "pygments_lexer": "ipython3",
   "version": "3.9.5"
  }
 },
 "nbformat": 4,
 "nbformat_minor": 5
}
